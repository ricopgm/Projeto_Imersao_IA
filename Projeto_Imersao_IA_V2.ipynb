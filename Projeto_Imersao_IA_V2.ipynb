{
  "nbformat": 4,
  "nbformat_minor": 0,
  "metadata": {
    "colab": {
      "provenance": [],
      "authorship_tag": "ABX9TyPdy6F04v96hEMeCk5HBMgF",
      "include_colab_link": true
    },
    "kernelspec": {
      "name": "python3",
      "display_name": "Python 3"
    },
    "language_info": {
      "name": "python"
    }
  },
  "cells": [
    {
      "cell_type": "markdown",
      "metadata": {
        "id": "view-in-github",
        "colab_type": "text"
      },
      "source": [
        "<a href=\"https://colab.research.google.com/github/ricopgm/Projeto_Imersao_IA/blob/main/Projeto_Imersao_IA_V2.ipynb\" target=\"_parent\"><img src=\"https://colab.research.google.com/assets/colab-badge.svg\" alt=\"Open In Colab\"/></a>"
      ]
    },
    {
      "cell_type": "code",
      "source": [
        "!pip install -q -U google-generativeai"
      ],
      "metadata": {
        "id": "4zrokspHQo_1"
      },
      "execution_count": 1,
      "outputs": []
    },
    {
      "cell_type": "code",
      "source": [
        "#iniciando o processo de importação das bibliotecas necessárias ao projeto.\n",
        "import google.generativeai as genai\n",
        "from google.colab import widgets\n",
        "from IPython.display import display\n",
        "from IPython.display import Markdown\n",
        "import matplotlib.pyplot as plt\n",
        "import numpy as np\n",
        "import pandas as pd\n",
        "import textwrap\n",
        "\n",
        "#ocultando a API Key\n",
        "from google.colab import userdata\n",
        "\n",
        "#declarando a variável 'SECRET_KEY' e o método para obter.\n",
        "api_key = userdata.get('SECRET_KEY')\n",
        "\n",
        "#Solicitando que a autenticação ocorra através da api_key, que está devidamente guardada no cofre de segredos da conta.\n",
        "genai.configure(api_key=api_key)"
      ],
      "metadata": {
        "id": "GIasSy3DQ6q2"
      },
      "execution_count": 2,
      "outputs": []
    },
    {
      "cell_type": "code",
      "source": [
        "generation_config = {\n",
        "    \"candidate_count\": 1,\n",
        "    \"temperature\": 1,\n",
        "}"
      ],
      "metadata": {
        "id": "XqAH2cn1RXDp"
      },
      "execution_count": 3,
      "outputs": []
    },
    {
      "cell_type": "code",
      "source": [
        "safety_settings = {\n",
        "    \"HARASSMENT\": \"BLOCK_NONE\",\n",
        "    \"HATE\": \"BLOCK_NONE\",\n",
        "    \"SEXUAL\": \"BLOCK_NONE\",\n",
        "    \"DANGEROUS\": \"BLOCK_NONE\"\n",
        "}"
      ],
      "metadata": {
        "id": "1kuBmZZBRahk"
      },
      "execution_count": 4,
      "outputs": []
    },
    {
      "cell_type": "code",
      "source": [
        "#primeiro listar os modelos de conteúdo disponíveis.\n",
        "for mod in genai.list_models():\n",
        "  if 'generateContent' in mod.supported_generation_methods:\n",
        "    print(mod.name)"
      ],
      "metadata": {
        "colab": {
          "base_uri": "https://localhost:8080/",
          "height": 156
        },
        "id": "-2fZ38cTWg3t",
        "outputId": "521e57f1-6c86-4e71-b5e1-bab293566da7"
      },
      "execution_count": 5,
      "outputs": [
        {
          "output_type": "stream",
          "name": "stdout",
          "text": [
            "models/gemini-1.0-pro\n",
            "models/gemini-1.0-pro-001\n",
            "models/gemini-1.0-pro-latest\n",
            "models/gemini-1.0-pro-vision-latest\n",
            "models/gemini-1.5-flash-latest\n",
            "models/gemini-1.5-pro-latest\n",
            "models/gemini-pro\n",
            "models/gemini-pro-vision\n"
          ]
        }
      ]
    },
    {
      "cell_type": "code",
      "source": [
        "#depois a escolha pelo modelo de conteúdo mais estável.\n",
        "mod = genai.GenerativeModel(model_name=\"gemini-1.0-pro\",\n",
        "                              generation_config=generation_config,\n",
        "                              safety_settings=safety_settings)"
      ],
      "metadata": {
        "id": "_HbGzXThRfs1"
      },
      "execution_count": 6,
      "outputs": []
    },
    {
      "cell_type": "code",
      "source": [
        "#Criando a funcionalidade para definir a coleta de dados para empresa ou transportadora\n",
        "def valida_entrada(prompt, tipo_dado):\n",
        "  \"\"\"\n",
        "  Validação da entrada de dados\n",
        "\n",
        "  Argumentos:\n",
        "    prompt: Texto a ser exibido antes da entrada de dados.\n",
        "    tipo_dado: Formato dos dados (int ou str).\n",
        "\n",
        "  Retorno:\n",
        "    Dados digitados após a validação.\n",
        "  \"\"\"\n",
        "  while True:\n",
        "    try:\n",
        "      valor = input(prompt)\n",
        "      if tipo_dado == int:\n",
        "        valor = int(valor)\n",
        "      elif tipo_dado == str:\n",
        "        valor = valor.strip()\n",
        "      else:\n",
        "        raise ValueError(\"Dado inválido.\")\n",
        "      return valor\n",
        "    except ValueError:\n",
        "      print(\"Dado inválido. Tente novamente.\")\n",
        "\n",
        "#Pergunta a profissão do usuário\n",
        "segmento = valida_entrada(\"Você é (empresa ou transportadora)? \", str).lower()\n",
        "\n",
        "while segmento not in [\"empresa\", \"transportadora\"]:\n",
        "  segmento = valida_entrada(\"Segmento inválido. Digite novamente (empresa ou transportadora): \", str).lower()\n",
        "\n",
        "#Formulário para empresas\n",
        "if segmento == \"empresa\":\n",
        "  dados_empresa = {\n",
        "      \"total_pedidos\": None,\n",
        "      \"total_pedidos_cancelados\": None,\n",
        "      \"total_pedidos_incompletos\": None,\n",
        "      \"total_pedidos_no_prazo\": None,\n",
        "      \"total_pedidos_mercadoria_errada\": None,\n",
        "      \"total_pedidos_faturados\": None,\n",
        "      \"total_pedidos_atrasados\": None,\n",
        "      \"total_pedidos_devolvidos\": None,\n",
        "      \"total_pedidos_entregues\": None\n",
        "  }\n",
        "\n",
        "  for campo in dados_empresa:\n",
        "    while True:\n",
        "      valor = valida_entrada(f\"Digite o {campo}: \", int)\n",
        "      dados_empresa[campo] = valor\n",
        "      if valor is not None:\n",
        "        break\n",
        "      print(\"Atenção! O campo está sem preenchimento.\")\n",
        "\n",
        "  #Exibe os dados coletados\n",
        "  print(\"\\nDados coletados:\")\n",
        "  for campo, valor in dados_empresa.items():\n",
        "    print(f\"{campo}: {valor}\")\n",
        "\n",
        "#Formulário para transportadoras\n",
        "elif segmento == \"transportadora\":\n",
        "  dados_transp = {\n",
        "      \"total_entregas_realizadas\": None,\n",
        "      \"total_entregas_no_prazo\": None,\n",
        "      \"total_entregas_atrasadas\": None,\n",
        "      \"total_entregas_devolvidas\": None\n",
        "  }\n",
        "\n",
        "  for campo in dados_transp:\n",
        "    while True:\n",
        "      valor = valida_entrada(f\"Digite o {campo}: \", int)\n",
        "      dados_transp[campo] = valor\n",
        "      if valor is not None:\n",
        "        break\n",
        "      print(\"Atenção! O campo está sem preenchimento.\")\n",
        "\n",
        "  #Exibe os dados coletados\n",
        "  print(\"\\nDados coletados:\")\n",
        "  for campo, valor in dados_transp.items():\n",
        "    print(f\"{campo}: {valor}\")\n",
        "\n",
        "print(\"\\nInformações de Logística de Entrega completas!\")"
      ],
      "metadata": {
        "colab": {
          "base_uri": "https://localhost:8080/"
        },
        "id": "93gKkC53XNEP",
        "outputId": "31421bd6-b955-45e6-c508-a2b0c06db0b5"
      },
      "execution_count": 29,
      "outputs": [
        {
          "output_type": "stream",
          "name": "stdout",
          "text": [
            "Você é (empresa ou transportadora)? empresa\n",
            "Digite o total_pedidos: 95\n",
            "Digite o total_pedidos_cancelados: 15\n",
            "Digite o total_pedidos_incompletos: 10\n",
            "Digite o total_pedidos_no_prazo: 70\n",
            "Digite o total_pedidos_mercadoria_errada: 0\n",
            "Digite o total_pedidos_faturados: 80\n",
            "Digite o total_pedidos_atrasados: 5\n",
            "Digite o total_pedidos_devolvidos: 5\n",
            "Digite o total_pedidos_entregues: 75\n",
            "\n",
            "Dados coletados:\n",
            "total_pedidos: 95\n",
            "total_pedidos_cancelados: 15\n",
            "total_pedidos_incompletos: 10\n",
            "total_pedidos_no_prazo: 70\n",
            "total_pedidos_mercadoria_errada: 0\n",
            "total_pedidos_faturados: 80\n",
            "total_pedidos_atrasados: 5\n",
            "total_pedidos_devolvidos: 5\n",
            "total_pedidos_entregues: 75\n",
            "\n",
            "Informações de Logística de Entrega completas!\n"
          ]
        }
      ]
    },
    {
      "cell_type": "code",
      "source": [
        "#Considerando os dados informados\n",
        "entregas_realizadas = [\"Pedidos\", \"Entregas No Prazo\", \"Entregas Atrasadas\", \"Devoluções\", \"Cancelados\"]\n",
        "pedidos_entregues_empresa = np.array([dados_empresa[\"total_pedidos\"],\n",
        "                                 dados_empresa[\"total_pedidos_no_prazo\"],\n",
        "                                 dados_empresa[\"total_pedidos_atrasados\"],\n",
        "                                 dados_empresa[\"total_pedidos_devolvidos\"],\n",
        "                                 dados_empresa[\"total_pedidos_cancelados\"]])\n",
        "\n",
        "plt.figure(figsize=(10, 6))\n",
        "barras = plt.bar(entregas_realizadas, pedidos_entregues_empresa, color=['blue', 'green', 'orange', 'purple', 'gray'], align='center')\n",
        "\n",
        "# Adicionar rótulos de dados acima de cada barra\n",
        "for barra, valor in zip(barras, pedidos_entregues_empresa):\n",
        "    altura_barra = valor + 0.1  # Ajustar a altura do rótulo se necessário\n",
        "    plt.text(barra.get_x() + barra.get_width() / 2, altura_barra, valor, ha='center', va='bottom')\n",
        "\n",
        "plt.xlabel(\"Entregas Realizadas\")\n",
        "plt.ylabel(\"Pedidos\")\n",
        "plt.title(\"Performance de Entrega\")\n",
        "plt.show()"
      ],
      "metadata": {
        "colab": {
          "base_uri": "https://localhost:8080/",
          "height": 564
        },
        "id": "THDBTDKMeLIo",
        "outputId": "3600125b-898d-4115-9460-86d1d0ef65e2"
      },
      "execution_count": 30,
      "outputs": [
        {
          "output_type": "display_data",
          "data": {
            "text/plain": [
              "<Figure size 1000x600 with 1 Axes>"
            ],
            "image/png": "[encoded data removed]"
          },
          "metadata": {}
        }
      ]
    },
    {
      "cell_type": "code",
      "source": [
        "#Criando a variável de chat\n",
        "chat = mod.start_chat(history=[])"
      ],
      "metadata": {
        "id": "UHoKGBGHjUjG"
      },
      "execution_count": 31,
      "outputs": []
    },
    {
      "cell_type": "code",
      "source": [
        "#Iniciando um chatbot\n",
        "prompt = input(\"Faça a sua pergunta: \")\n",
        "\n",
        "#Criando as condições de interação\n",
        "while prompt != \"sair\":\n",
        "  response = chat.send_message(prompt)\n",
        "  print(\"Resposta: \", response.text, \"\\n\")\n",
        "  prompt = input(\"Digite a sua pergunta: \")"
      ],
      "metadata": {
        "colab": {
          "base_uri": "https://localhost:8080/",
          "height": 902
        },
        "id": "I_TiQRK3jf5Y",
        "outputId": "9c609b24-9b9f-4087-bbcc-ee8561c4399e"
      },
      "execution_count": 32,
      "outputs": [
        {
          "name": "stdout",
          "output_type": "stream",
          "text": [
            "Faça a sua pergunta: qual é a quantidade de pedidos cancelados com base no historico\n",
            "Resposta:  Não forneci acesso a dados específicos para calcular o número de pedidos cancelados com base no histórico. Por isso, não consigo fornecer essa informação. \n",
            "\n",
            "Digite a sua pergunta: como eu devo calcular a performance de entrega em logistica\n",
            "Resposta:  **Como Calcular a Performance de Entrega em Logística:**\n",
            "\n",
            "**1. Estabeleça Métricas de Desempenho:**\n",
            "\n",
            "* **Taxa de Entregas no Prazo:** Porcentagem de pedidos entregues dentro do prazo acordado.\n",
            "* **Tempo Médio de Entrega:** Tempo médio entre a colocação e a entrega do pedido.\n",
            "* **Taxa de Erros:** Porcentagem de pedidos entregues com erros (por exemplo, itens ausentes, danos).\n",
            "* **Satisfação do Cliente:** Feedback do cliente sobre a pontualidade e qualidade das entregas.\n",
            "\n",
            "**2. Colete Dados:**\n",
            "\n",
            "* Rastreador GPS para monitorar entregas em tempo real.\n",
            "* Sistema de gerenciamento de pedidos (OMS) para registrar horários de colocação e entrega.\n",
            "* Pesquisas de satisfação do cliente.\n",
            "\n",
            "**3. Calcule as Métricas:**\n",
            "\n",
            "**Taxa de Entregas no Prazo:**\n",
            "\n",
            "* Número de entregas no prazo / Número total de entregas\n",
            "\n",
            "**Tempo Médio de Entrega:**\n",
            "\n",
            "* Somme o tempo de entrega de todos os pedidos / Número total de pedidos\n",
            "\n",
            "**Taxa de Erros:**\n",
            "\n",
            "* Número de entregas com erros / Número total de entregas\n",
            "\n",
            "**Satisfação do Cliente:**\n",
            "\n",
            "* Analise as classificações e comentários dos clientes recebidos por meio de pesquisas ou avaliações online.\n",
            "\n",
            "**4. Analise os Resultados:**\n",
            "\n",
            "Compare as métricas com as metas estabelecidas e identifique áreas para melhoria. Considere os seguintes fatores:\n",
            "\n",
            "* **Tendências:** Acompanhe as métricas ao longo do tempo para identificar padrões.\n",
            "* **Causa raiz:** Investigue as causas dos atrasos, erros ou insatisfação do cliente.\n",
            "* **Melhorias:** Implemente soluções para resolver problemas e otimizar o desempenho de entrega.\n",
            "\n",
            "**5. Relate e Comunique:**\n",
            "\n",
            "* Compartilhe regularmente os resultados da performance de entrega com as partes interessadas.\n",
            "* Use dados e insights para informar as decisões de logística e melhorar a eficiência. \n",
            "\n",
            "Digite a sua pergunta: sair\n"
          ]
        }
      ]
    },
    {
      "cell_type": "code",
      "source": [
        "#Melhorando a visualização\n",
        "def to_markdown(text):\n",
        "  \"\"\"Formata o texto como Markdown.\"\"\"\n",
        "  text = text.replace('•', '  *')\n",
        "  return Markdown(textwrap.indent(text, '> ', predicate=lambda _: True))\n",
        "\n",
        "#Imprimindo o histórico\n",
        "for message in chat.history:\n",
        "  display(to_markdown(f\"**{message.role}:** {message.parts[0].text}\"))\n",
        "  print('------------------------------')"
      ],
      "metadata": {
        "colab": {
          "base_uri": "https://localhost:8080/",
          "height": 845
        },
        "id": "QcVq65_mjtDw",
        "outputId": "6abec317-b7fe-4f21-b77e-64c161db3181"
      },
      "execution_count": 33,
      "outputs": [
        {
          "output_type": "display_data",
          "data": {
            "text/plain": [
              "<IPython.core.display.Markdown object>"
            ],
            "text/markdown": "> **user:** qual é a quantidade de pedidos cancelados com base no historico"
          },
          "metadata": {}
        },
        {
          "output_type": "stream",
          "name": "stdout",
          "text": [
            "------------------------------\n"
          ]
        },
        {
          "output_type": "display_data",
          "data": {
            "text/plain": [
              "<IPython.core.display.Markdown object>"
            ],
            "text/markdown": "> **model:** Não forneci acesso a dados específicos para calcular o número de pedidos cancelados com base no histórico. Por isso, não consigo fornecer essa informação."
          },
          "metadata": {}
        },
        {
          "output_type": "stream",
          "name": "stdout",
          "text": [
            "------------------------------\n"
          ]
        },
        {
          "output_type": "display_data",
          "data": {
            "text/plain": [
              "<IPython.core.display.Markdown object>"
            ],
            "text/markdown": "> **user:** como eu devo calcular a performance de entrega em logistica"
          },
          "metadata": {}
        },
        {
          "output_type": "stream",
          "name": "stdout",
          "text": [
            "------------------------------\n"
          ]
        },
        {
          "output_type": "display_data",
          "data": {
            "text/plain": [
              "<IPython.core.display.Markdown object>"
            ],
            "text/markdown": "> **model:** **Como Calcular a Performance de Entrega em Logística:**\n> \n> **1. Estabeleça Métricas de Desempenho:**\n> \n> * **Taxa de Entregas no Prazo:** Porcentagem de pedidos entregues dentro do prazo acordado.\n> * **Tempo Médio de Entrega:** Tempo médio entre a colocação e a entrega do pedido.\n> * **Taxa de Erros:** Porcentagem de pedidos entregues com erros (por exemplo, itens ausentes, danos).\n> * **Satisfação do Cliente:** Feedback do cliente sobre a pontualidade e qualidade das entregas.\n> \n> **2. Colete Dados:**\n> \n> * Rastreador GPS para monitorar entregas em tempo real.\n> * Sistema de gerenciamento de pedidos (OMS) para registrar horários de colocação e entrega.\n> * Pesquisas de satisfação do cliente.\n> \n> **3. Calcule as Métricas:**\n> \n> **Taxa de Entregas no Prazo:**\n> \n> * Número de entregas no prazo / Número total de entregas\n> \n> **Tempo Médio de Entrega:**\n> \n> * Somme o tempo de entrega de todos os pedidos / Número total de pedidos\n> \n> **Taxa de Erros:**\n> \n> * Número de entregas com erros / Número total de entregas\n> \n> **Satisfação do Cliente:**\n> \n> * Analise as classificações e comentários dos clientes recebidos por meio de pesquisas ou avaliações online.\n> \n> **4. Analise os Resultados:**\n> \n> Compare as métricas com as metas estabelecidas e identifique áreas para melhoria. Considere os seguintes fatores:\n> \n> * **Tendências:** Acompanhe as métricas ao longo do tempo para identificar padrões.\n> * **Causa raiz:** Investigue as causas dos atrasos, erros ou insatisfação do cliente.\n> * **Melhorias:** Implemente soluções para resolver problemas e otimizar o desempenho de entrega.\n> \n> **5. Relate e Comunique:**\n> \n> * Compartilhe regularmente os resultados da performance de entrega com as partes interessadas.\n> * Use dados e insights para informar as decisões de logística e melhorar a eficiência."
          },
          "metadata": {}
        },
        {
          "output_type": "stream",
          "name": "stdout",
          "text": [
            "------------------------------\n"
          ]
        }
      ]
    }
  ]
}