{
  "nbformat": 4,
  "nbformat_minor": 0,
  "metadata": {
    "colab": {
      "provenance": [],
      "authorship_tag": "ABX9TyMEnrW/easu0CHVdP45Z7OO",
      "include_colab_link": true
    },
    "kernelspec": {
      "name": "python3",
      "display_name": "Python 3"
    },
    "language_info": {
      "name": "python"
    }
  },
  "cells": [
    {
      "cell_type": "markdown",
      "metadata": {
        "id": "view-in-github",
        "colab_type": "text"
      },
      "source": [
        "<a href=\"https://colab.research.google.com/github/ricopgm/Projeto_Imersao_IA/blob/main/Proj_Imersao_AI.ipynb\" target=\"_parent\"><img src=\"https://colab.research.google.com/assets/colab-badge.svg\" alt=\"Open In Colab\"/></a>"
      ]
    },
    {
      "cell_type": "code",
      "source": [
        "# Instalando o sdk do google generative ai\n",
        "!pip install -q -U google-generativeai"
      ],
      "metadata": {
        "id": "cCNBbpE8y7Df"
      },
      "execution_count": 36,
      "outputs": []
    },
    {
      "cell_type": "code",
      "source": [
        "# Instalando biblioteca para manipulação e análise de dados.\n",
        "!pip install pandas"
      ],
      "metadata": {
        "id": "z_D2zm0-hmlc"
      },
      "execution_count": null,
      "outputs": []
    },
    {
      "cell_type": "code",
      "source": [
        "# Intalando biblioteca para criação de gráficos estáticos\n",
        "!pip install matplotlib"
      ],
      "metadata": {
        "id": "x_oGFA7HiOxb"
      },
      "execution_count": null,
      "outputs": []
    },
    {
      "cell_type": "code",
      "source": [
        "# Instalando biblioteca para criação de elementos interativos (widgets) em notebooks Jupyter (como o Google Colab)\n",
        "!pip install ipywidgets"
      ],
      "metadata": {
        "id": "G2X0NxTbiR_I"
      },
      "execution_count": null,
      "outputs": []
    },
    {
      "cell_type": "code",
      "source": [
        "# Instalando biblioteca para criação de gráficos interativos.\n",
        "!pip install plotly"
      ],
      "metadata": {
        "id": "YcXZiJKOiU6n"
      },
      "execution_count": null,
      "outputs": []
    },
    {
      "cell_type": "code",
      "source": [
        "# Instalando biblioteca para extração de dados de arquivos PDF\n",
        "!pip install tabula-py"
      ],
      "metadata": {
        "id": "BMlNAU_EiWYf"
      },
      "execution_count": null,
      "outputs": []
    },
    {
      "cell_type": "code",
      "source": [
        "# Instalando biblioteca para leitura e manipulação de arquivos PDF\n",
        "!pip install PyPDF2"
      ],
      "metadata": {
        "id": "zHVmgghEiYnD"
      },
      "execution_count": null,
      "outputs": []
    },
    {
      "cell_type": "code",
      "source": [
        "# Fazendo o import das bibliotecas\n",
        "import pandas as pd\n",
        "import matplotlib.pyplot as plt\n",
        "import ipywidgets as widgets\n",
        "from IPython.display import display\n",
        "import plotly.express as px\n",
        "from tabula import read_pdf\n",
        "from PyPDF2 import PdfReader"
      ],
      "metadata": {
        "id": "s8IecMGjkIPO"
      },
      "execution_count": 37,
      "outputs": []
    },
    {
      "cell_type": "code",
      "source": [
        "# Configurando API KEY como secreta\n",
        "import google.generativeai as genai\n",
        "from google.colab import userdata\n",
        "api_key = userdata.get('SECRET_KEY')\n",
        "genai.configure(api_key=api_key)"
      ],
      "metadata": {
        "id": "Z_Zb3eEIzmRR"
      },
      "execution_count": 38,
      "outputs": []
    },
    {
      "cell_type": "markdown",
      "source": [],
      "metadata": {
        "id": "Z8RnRRuthmTb"
      }
    },
    {
      "cell_type": "code",
      "execution_count": null,
      "metadata": {
        "id": "KyzK9gZ7hfa0"
      },
      "outputs": [],
      "source": [
        "# Função para fazer upload de arquivo de dados gerados pelo Gemini\n",
        "def upload_arquivo():\n",
        "  uploaded = widgets.FileUpload(accept='.xlsx, .csv, .pdf', multiple=False)\n",
        "  display(uploaded)\n",
        "  return uploaded\n",
        "\n",
        "# Função para input de dados manualmente\n",
        "def input_manual():\n",
        "  print(\"Insira os dados manualmente, separados por vírgula, seguindo o formato:\")\n",
        "  print(\"Data Pedido,Previsão Entrega,Data Entrega,Cliente,idVeiculo,Nota Fiscal,Peso Líquido,Peso Cubado,Valor Mercadoria,Valor Frete Líquido,Devolução,Status\")\n",
        "  data = input()\n",
        "  return data\n",
        "\n",
        "# Função para carregar arquivo\n",
        "def carregar_arquivo(uploaded):\n",
        "  if uploaded.value:\n",
        "    tipo_arquivo = uploaded.metadata[0]['type']\n",
        "    if tipo_arquivo == 'application/vnd.openxmlformats-officedocument.spreadsheetml.sheet':\n",
        "      df = pd.read_excel(uploaded.value[0]['content'])\n",
        "    elif tipo_arquivo == 'text/csv':\n",
        "      df = pd.read_csv(uploaded.value[0]['content'])\n",
        "    elif tipo_arquivo == 'application/pdf':\n",
        "      df = read_pdf(uploaded.value[0]['content'], pages='all')[0]\n",
        "    else:\n",
        "      print(\"Tipo de arquivo inválido. Por favor, faça upload de um arquivo .xlsx, .csv ou .pdf.\")\n",
        "      return None\n",
        "    return df\n",
        "  else:\n",
        "    print(\"Nenhum arquivo selecionado. Iniciando input manual.\")\n",
        "    data = input_manual()\n",
        "    df = pd.DataFrame([x.split(',') for x in data.split('\\n')])\n",
        "    df.columns = df.iloc[0]\n",
        "    df = df[1:]\n",
        "    return df\n",
        "\n",
        "# Função para processar os dados do DataFrame\n",
        "def processar_dados(df):\n",
        "  # Renomear colunas se necessário\n",
        "  df.columns = ['Data Pedido', 'Previsão Entrega', 'Data Entrega', 'Cliente', 'Código de Veículo',\n",
        "                'Nota Fiscal', 'Peso Líquido', 'Peso Cubado', 'Valor Mercadoria', 'Valor Frete Líquido',\n",
        "                'Devolução', 'Status']\n",
        "\n",
        "  # Converter colunas de datas para o tipo datetime\n",
        "  df[\"Data Pedido\"] = pd.to_datetime(df[\"Data Pedido\"], format=\"%d/%m/%Y\")\n",
        "  df[\"Previsão Entrega\"] = pd.to_datetime(df[\"Previsão Entrega\"], format=\"%d/%m/%Y\")\n",
        "  df[\"Data Entrega\"] = pd.to_datetime(df[\"Data Entrega\"], format=\"%d/%m/%Y\")\n",
        "\n",
        "  # Converter a coluna \"Valor Mercadoria\" para float\n",
        "  df[\"Valor Mercadoria\"] = df[\"Valor Mercadoria\"].str.replace(\"R\\$ \", \"\", regex=True).str.replace(\".\", \"\", regex=True).str.replace(\",\", \".\", regex=True).astype(float)\n",
        "\n",
        "  # Converter a coluna \"Valor Frete Líquido\" para float\n",
        "  df[\"Valor Frete Líquido\"] = df[\"Valor Frete Líquido\"].str.replace(\"R\\$ \", \"\", regex=True).str.replace(\".\", \"\", regex=True).str.replace(\",\", \".\", regex=True).astype(float)\n",
        "\n",
        "  # Criar coluna \"Ano\"\n",
        "  df[\"Ano\"] = df[\"Data Pedido\"].dt.year\n",
        "\n",
        "  # Criar coluna \"Trimestre\"\n",
        "  df[\"Trimestre\"] = df[\"Data Pedido\"].dt.quarter\n",
        "\n",
        "  # Criar coluna \"Entregas Atrasadas\"\n",
        "  df[\"Entregas Atrasadas\"] = df[\"Data Entrega\"] > df[\"Previsão Entrega\"]\n",
        "  return df\n",
        "\n",
        "# Funções para gerar os gráficos\n",
        "def grafico_barras_verticais(df, coluna_x, coluna_y, titulo):\n",
        "  fig = px.bar(df, x=coluna_x, y=coluna_y, title=titulo)\n",
        "  fig.show()\n",
        "\n",
        "def grafico_barras_horizontais(df, coluna_x, coluna_y, titulo):\n",
        "  fig = px.bar(df, x=coluna_x, y=coluna_y, title=titulo, orientation='h')\n",
        "  fig.show()\n",
        "\n",
        "def grafico_rosca(df, coluna, titulo):\n",
        "  fig = px.pie(df, values=coluna, names=coluna, title=titulo)\n",
        "  fig.update_traces(textposition='inside', textinfo='percent+label')\n",
        "  fig.show()\n",
        "\n",
        "# Função para criar o dashboard\n",
        "def criar_dashboard(df):\n",
        "  # Widgets para seleção de período\n",
        "  inicio_periodo = widgets.DatePicker(description='Data Inicial:')\n",
        "  fim_periodo = widgets.DatePicker(description='Data Final:')\n",
        "\n",
        "  # Função para atualizar os gráficos com base no período selecionado\n",
        "  def atualizar_graficos(inicio, fim):\n",
        "    # Filtrar dados pelo período\n",
        "    fretes_filtrado = df[(df[\"Data Pedido\"] >= inicio) & (df[\"Data Pedido\"] <= fim)]\n",
        "\n",
        "    # Gráfico de barras verticais - Receita Bruta por Ano\n",
        "    grafico_barras_verticais(fretes_filtrado.groupby(\"Ano\")[\"Valor Mercadoria\"].sum().reset_index(), \"Ano\", \"Valor Mercadoria\", \"Receita Bruta por Ano\")\n",
        "\n",
        "    # Gráfico de barras horizontais - Receita Bruta por Trimestre\n",
        "    grafico_barras_horizontais(fretes_filtrado.groupby(\"Trimestre\")[\"Valor Mercadoria\"].sum().reset_index(), \"Trimestre\", \"Valor Mercadoria\", \"Receita Bruta por Trimestre\")\n",
        "\n",
        "    # Gráfico de rosca - Entregas Atrasadas\n",
        "    grafico_rosca(fretes_filtrado[\"Entregas Atrasadas\"].value_counts().reset_index(), \"Entregas Atrasadas\", \"Entregas Atrasadas\")\n",
        "\n",
        "    # Gráfico de barras verticais - Quantidade de Entregas por Status\n",
        "    grafico_barras_verticais(fretes_filtrado[\"Status\"].value_counts().reset_index(), \"Status\", \"count\", \"Quantidade de Entregas por Status\")\n",
        "\n",
        "    # Gráfico de barras horizontais - Quantidade de Entregas por Baú do Veículo\n",
        "    grafico_barras_horizontais(fretes_filtrado[\"Baú\"].value_counts().reset_index(), \"Baú\", \"count\", \"Quantidade de Entregas por Baú do Veículo\")\n",
        "\n",
        "    # Gráfico de rosca - Quantidade de Entregas por Tipo de Veículo\n",
        "    grafico_rosca(fretes_filtrado[\"Tipo de Veículo\"].value_counts().reset_index(), \"Tipo de Veículo\", \"Quantidade de Entregas por Tipo de Veículo\")\n",
        "\n",
        "    # Gráfico de barras verticais - Quantidade de Entregas por Placa do Veículo\n",
        "    grafico_barras_verticais(fretes_filtrado[\"Placa\"].value_counts().reset_index(), \"Placa\", \"count\", \"Quantidade de Entregas por Placa do Veículo\")\n",
        "\n",
        "    # Gráfico de barras horizontais - Devoluções por Baú do Veículo\n",
        "    grafico_barras_horizontais(fretes_filtrado[fretes_filtrado[\"Devolução\"] != \"Sem Devolução\"][\"Baú\"].value_counts().reset_index(), \"Baú\", \"count\", \"Devoluções por Baú do Veículo\")\n",
        "\n",
        "    # Gráfico de rosca - Devoluções por Motivo\n",
        "    grafico_rosca(fretes_filtrado[fretes_filtrado[\"Devolução\"] != \"Sem Devolução\"][\"Devolução\"].value_counts().reset_index(), \"Devolução\", \"Devoluções por Motivo\")\n",
        "\n",
        "  # Interação com os widgets\n",
        "  widgets.interactive(atualizar_graficos, inicio=inicio_periodo, fim=fim_periodo)\n",
        "\n",
        "  # Exibir os widgets\n",
        "  display(inicio_periodo, fim_periodo)\n",
        "\n",
        "# Solicitar o upload do arquivo\n",
        "uploaded = upload_arquivo()\n",
        "\n",
        "# Carregar o arquivo\n",
        "df = carregar_arquivo(uploaded)\n",
        "\n",
        "# Processar os dados\n",
        "df = processar_dados(df)\n",
        "\n",
        "# Criar o dashboard\n",
        "criar_dashboard(df)"
      ]
    }
  ]
}